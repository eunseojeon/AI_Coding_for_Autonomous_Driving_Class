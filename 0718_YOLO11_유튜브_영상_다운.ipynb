{
  "nbformat": 4,
  "nbformat_minor": 0,
  "metadata": {
    "colab": {
      "provenance": [],
      "authorship_tag": "ABX9TyOex9iwCqFVyQ/gxfWHRngO",
      "include_colab_link": true
    },
    "kernelspec": {
      "name": "python3",
      "display_name": "Python 3"
    },
    "language_info": {
      "name": "python"
    }
  },
  "cells": [
    {
      "cell_type": "markdown",
      "metadata": {
        "id": "view-in-github",
        "colab_type": "text"
      },
      "source": [
        "<a href=\"https://colab.research.google.com/github/eunseojeon/AI_Coding_for_Autonomous_Driving_Class/blob/main/0718_YOLO11_%EC%9C%A0%ED%8A%9C%EB%B8%8C_%EC%98%81%EC%83%81_%EB%8B%A4%EC%9A%B4.ipynb\" target=\"_parent\"><img src=\"https://colab.research.google.com/assets/colab-badge.svg\" alt=\"Open In Colab\"/></a>"
      ]
    },
    {
      "cell_type": "markdown",
      "source": [
        "## 1️⃣ 필수 라이브러리 설치"
      ],
      "metadata": {
        "id": "DjUzSNX68-k4"
      }
    },
    {
      "cell_type": "code",
      "execution_count": null,
      "metadata": {
        "colab": {
          "base_uri": "https://localhost:8080/"
        },
        "id": "alfSgo148ZVJ",
        "outputId": "264aa89f-ab08-4180-927e-5e65f6db9f65"
      },
      "outputs": [
        {
          "output_type": "stream",
          "name": "stdout",
          "text": [
            "Requirement already satisfied: pytube in /usr/local/lib/python3.11/dist-packages (15.0.0)\n",
            "Requirement already satisfied: pytube in /usr/local/lib/python3.11/dist-packages (15.0.0)\n"
          ]
        }
      ],
      "source": [
        "!pip install pytube\n",
        "!pip install --upgrade pytube"
      ]
    },
    {
      "cell_type": "markdown",
      "source": [
        "## 2️⃣ 영상 다운로드 코드"
      ],
      "metadata": {
        "id": "lDoufPtt9Ewy"
      }
    },
    {
      "cell_type": "code",
      "source": [
        "!pip install -U yt-dlp\n",
        "\n",
        "import yt_dlp\n",
        "\n",
        "url = 'https://youtube.com/shorts/Iw7urn3wgxM?si=SQGlQH-2HyjIpb5n'\n",
        "ydl_opts = {\n",
        "    'format': 'bestvideo[ext=mp4]+bestaudio[ext=m4a]/mp4',\n",
        "    'outtmpl': 'downloaded_video.%(ext)s',\n",
        "}\n",
        "\n",
        "with yt_dlp.YoutubeDL(ydl_opts) as ydl:\n",
        "    ydl.download([url])\n",
        "\n",
        "print('영상 다운로드 완료!')"
      ],
      "metadata": {
        "colab": {
          "base_uri": "https://localhost:8080/"
        },
        "id": "aL6-vIef9DS5",
        "outputId": "42c412e4-3a15-4b38-f4e3-963fefd740bc"
      },
      "execution_count": null,
      "outputs": [
        {
          "output_type": "stream",
          "name": "stdout",
          "text": [
            "Collecting yt-dlp\n",
            "  Downloading yt_dlp-2025.6.30-py3-none-any.whl.metadata (174 kB)\n",
            "\u001b[?25l     \u001b[90m━━━━━━━━━━━━━━━━━━━━━━━━━━━━━━━━━━━━━━━━\u001b[0m \u001b[32m0.0/174.3 kB\u001b[0m \u001b[31m?\u001b[0m eta \u001b[36m-:--:--\u001b[0m\r\u001b[2K     \u001b[90m━━━━━━━━━━━━━━━━━━━━━━━━━━━━━━━━━━━━━━\u001b[0m \u001b[32m174.3/174.3 kB\u001b[0m \u001b[31m11.8 MB/s\u001b[0m eta \u001b[36m0:00:00\u001b[0m\n",
            "\u001b[?25hDownloading yt_dlp-2025.6.30-py3-none-any.whl (3.3 MB)\n",
            "\u001b[2K   \u001b[90m━━━━━━━━━━━━━━━━━━━━━━━━━━━━━━━━━━━━━━━━\u001b[0m \u001b[32m3.3/3.3 MB\u001b[0m \u001b[31m84.8 MB/s\u001b[0m eta \u001b[36m0:00:00\u001b[0m\n",
            "\u001b[?25hInstalling collected packages: yt-dlp\n",
            "Successfully installed yt-dlp-2025.6.30\n",
            "[youtube] Extracting URL: https://youtube.com/shorts/Iw7urn3wgxM?si=SQGlQH-2HyjIpb5n\n",
            "[youtube] Iw7urn3wgxM: Downloading webpage\n",
            "[youtube] Iw7urn3wgxM: Downloading tv client config\n",
            "[youtube] Iw7urn3wgxM: Downloading player 69b31e11-main\n",
            "[youtube] Iw7urn3wgxM: Downloading tv player API JSON\n",
            "[youtube] Iw7urn3wgxM: Downloading ios player API JSON\n",
            "[youtube] Iw7urn3wgxM: Downloading m3u8 information\n",
            "[info] Iw7urn3wgxM: Downloading 1 format(s): 398+140\n",
            "[download] Destination: downloaded_video.f398.mp4\n",
            "[download] 100% of    8.14MiB in 00:00:00 at 25.68MiB/s  \n",
            "[download] Destination: downloaded_video.f140.m4a\n",
            "[download] 100% of  949.91KiB in 00:00:00 at 2.65MiB/s   \n",
            "[Merger] Merging formats into \"downloaded_video.mp4\"\n",
            "Deleting original file downloaded_video.f398.mp4 (pass -k to keep)\n",
            "Deleting original file downloaded_video.f140.m4a (pass -k to keep)\n",
            "영상 다운로드 완료!\n"
          ]
        }
      ]
    }
  ]
}