{
  "nbformat": 4,
  "nbformat_minor": 0,
  "metadata": {
    "colab": {
      "provenance": [],
      "authorship_tag": "ABX9TyO1y6GLADgdibEMp14ufG8F",
      "include_colab_link": true
    },
    "kernelspec": {
      "name": "python3",
      "display_name": "Python 3"
    },
    "language_info": {
      "name": "python"
    }
  },
  "cells": [
    {
      "cell_type": "markdown",
      "metadata": {
        "id": "view-in-github",
        "colab_type": "text"
      },
      "source": [
        "<a href=\"https://colab.research.google.com/github/eunseojeon/AI_Coding_for_Autonomous_Driving_Class/blob/main/0715_%EC%9D%B4%EB%AF%B8%EC%A7%80%ED%85%8C%EC%8A%A4%ED%8A%B8.ipynb\" target=\"_parent\"><img src=\"https://colab.research.google.com/assets/colab-badge.svg\" alt=\"Open In Colab\"/></a>"
      ]
    },
    {
      "cell_type": "code",
      "execution_count": 1,
      "metadata": {
        "colab": {
          "base_uri": "https://localhost:8080/"
        },
        "id": "0TxCw-Zpo8Yp",
        "outputId": "05211f28-e113-4c77-8290-a29aed5cdca3"
      },
      "outputs": [
        {
          "output_type": "stream",
          "name": "stdout",
          "text": [
            "크기: (340, 255)\n",
            "모드: RGB\n",
            "형식: JPEG\n"
          ]
        }
      ],
      "source": [
        "# 기본 사용 예시\n",
        "from PIL import Image, ImageFilter, ImageDraw\n",
        "# 이미지 열기\n",
        "img = Image.open('/content/sample_data/차.jpeg')\n",
        "# 기본 정보 확인\n",
        "print(f\"크기: {img.size}\")\n",
        "print(f\"모드: {img.mode}\")\n",
        "print(f\"형식: {img.format}\")\n",
        "# 크기 조정\n",
        "resized = img.resize((800, 600))\n",
        "# 회전\n",
        "rotated = img.rotate(45)\n",
        "# 필터 적용\n",
        "blurred = img.filter(ImageFilter.BLUR)\n",
        "# 저장\n",
        "img.save('output.png')"
      ]
    }
  ]
}