{
  "nbformat": 4,
  "nbformat_minor": 0,
  "metadata": {
    "colab": {
      "provenance": [],
      "authorship_tag": "ABX9TyNUnAQupZjWRum6toUaP53Q",
      "include_colab_link": true
    },
    "kernelspec": {
      "name": "python3",
      "display_name": "Python 3"
    },
    "language_info": {
      "name": "python"
    }
  },
  "cells": [
    {
      "cell_type": "markdown",
      "metadata": {
        "id": "view-in-github",
        "colab_type": "text"
      },
      "source": [
        "<a href=\"https://colab.research.google.com/github/eunseojeon/AI_Coding_for_Autonomous_Driving_Class/blob/main/0718_YOLO12_%EC%9C%A0%ED%8A%9C%EB%B8%8C_%EC%98%81%EC%83%81_%EB%8B%A4%EC%9A%B4.ipynb\" target=\"_parent\"><img src=\"https://colab.research.google.com/assets/colab-badge.svg\" alt=\"Open In Colab\"/></a>"
      ]
    },
    {
      "cell_type": "markdown",
      "source": [
        "## 1️⃣ yt-dlp 설치"
      ],
      "metadata": {
        "id": "f5tCugpwAS1i"
      }
    },
    {
      "cell_type": "code",
      "source": [
        "!pip install -U yt-dlp"
      ],
      "metadata": {
        "colab": {
          "base_uri": "https://localhost:8080/"
        },
        "id": "Ebk0IPN-APcE",
        "outputId": "602f238a-7685-432b-dc85-d5adf48e8d37"
      },
      "execution_count": null,
      "outputs": [
        {
          "output_type": "stream",
          "name": "stdout",
          "text": [
            "Collecting yt-dlp\n",
            "  Downloading yt_dlp-2025.6.30-py3-none-any.whl.metadata (174 kB)\n",
            "\u001b[2K     \u001b[90m━━━━━━━━━━━━━━━━━━━━━━━━━━━━━━━━━━━━━\u001b[0m \u001b[32m174.3/174.3 kB\u001b[0m \u001b[31m621.2 kB/s\u001b[0m eta \u001b[36m0:00:00\u001b[0m\n",
            "\u001b[?25hDownloading yt_dlp-2025.6.30-py3-none-any.whl (3.3 MB)\n",
            "\u001b[2K   \u001b[90m━━━━━━━━━━━━━━━━━━━━━━━━━━━━━━━━━━━━━━━━\u001b[0m \u001b[32m3.3/3.3 MB\u001b[0m \u001b[31m9.3 MB/s\u001b[0m eta \u001b[36m0:00:00\u001b[0m\n",
            "\u001b[?25hInstalling collected packages: yt-dlp\n",
            "Successfully installed yt-dlp-2025.6.30\n"
          ]
        }
      ]
    },
    {
      "cell_type": "markdown",
      "source": [
        "## 2️⃣ 다운로드용 폴더 생성"
      ],
      "metadata": {
        "id": "UvL_j-YZAYN1"
      }
    },
    {
      "cell_type": "code",
      "source": [
        "import os\n",
        "\n",
        "save_path = \"downloads\"\n",
        "os.makedirs(save_path, exist_ok=True)\n"
      ],
      "metadata": {
        "id": "KfeQm-OGARt3"
      },
      "execution_count": null,
      "outputs": []
    },
    {
      "cell_type": "markdown",
      "source": [
        "## 3️⃣ 유튜브 영상 다운로드 함수 작성"
      ],
      "metadata": {
        "id": "f2HavKMhAcy7"
      }
    },
    {
      "cell_type": "code",
      "source": [
        "import yt_dlp\n",
        "\n",
        "def download_youtube_video(video_url, save_path=\"downloads\"):\n",
        "    \"\"\"\n",
        "    유튜브 영상을 최고 화질로 다운로드합니다.\n",
        "\n",
        "    매개변수:\n",
        "        video_url (str): 유튜브 동영상의 URL\n",
        "        save_path (str): 영상을 저장할 디렉토리\n",
        "    \"\"\"\n",
        "    ydl_opts = {\n",
        "        'format': 'bestvideo+bestaudio/best',\n",
        "        'outtmpl': f'{save_path}/%(title)s.%(ext)s',\n",
        "        'merge_output_format': 'mp4',\n",
        "    }\n",
        "    with yt_dlp.YoutubeDL(ydl_opts) as ydl:\n",
        "        ydl.download([video_url])\n",
        "    print(f\"다운로드가 완료되었습니다: {save_path} 폴더를 확인해주세요.\")\n"
      ],
      "metadata": {
        "id": "cJd73BNNAhg5"
      },
      "execution_count": null,
      "outputs": []
    },
    {
      "cell_type": "markdown",
      "source": [
        "## 4️⃣ 함수 실행"
      ],
      "metadata": {
        "id": "YijeZRyHAxDL"
      }
    },
    {
      "cell_type": "code",
      "source": [
        "# 사용 예시\n",
        "video_url = \"https://www.youtube.com/watch?v=FLY7S-N-OMs\"\n",
        "download_youtube_video(video_url, save_path)"
      ],
      "metadata": {
        "colab": {
          "base_uri": "https://localhost:8080/"
        },
        "id": "cwUg3aPLAwFs",
        "outputId": "508efa6c-7d1c-40d3-e55b-53a9b1d7f0f3"
      },
      "execution_count": null,
      "outputs": [
        {
          "output_type": "stream",
          "name": "stdout",
          "text": [
            "[youtube] Extracting URL: https://www.youtube.com/watch?v=FLY7S-N-OMs\n",
            "[youtube] FLY7S-N-OMs: Downloading webpage\n",
            "[youtube] FLY7S-N-OMs: Downloading tv client config\n",
            "[youtube] FLY7S-N-OMs: Downloading player 69b31e11-main\n",
            "[youtube] FLY7S-N-OMs: Downloading tv player API JSON\n",
            "[youtube] FLY7S-N-OMs: Downloading ios player API JSON\n",
            "[youtube] FLY7S-N-OMs: Downloading m3u8 information\n",
            "[info] FLY7S-N-OMs: Downloading 1 format(s): 399+251\n",
            "[download] Destination: downloads/[풀영상] 엄마차 몰래 운전한 7살 초딩의 최후...[몇대몇 블랙박스].f399.mp4\n",
            "[download] 100% of  228.82MiB in 00:00:05 at 39.20MiB/s  \n",
            "[download] Destination: downloads/[풀영상] 엄마차 몰래 운전한 7살 초딩의 최후...[몇대몇 블랙박스].f251.webm\n",
            "[download] 100% of    6.58MiB in 00:00:00 at 9.77MiB/s   \n",
            "[Merger] Merging formats into \"downloads/[풀영상] 엄마차 몰래 운전한 7살 초딩의 최후...[몇대몇 블랙박스].mp4\"\n",
            "Deleting original file downloads/[풀영상] 엄마차 몰래 운전한 7살 초딩의 최후...[몇대몇 블랙박스].f399.mp4 (pass -k to keep)\n",
            "Deleting original file downloads/[풀영상] 엄마차 몰래 운전한 7살 초딩의 최후...[몇대몇 블랙박스].f251.webm (pass -k to keep)\n",
            "다운로드가 완료되었습니다: downloads 폴더를 확인해주세요.\n"
          ]
        }
      ]
    }
  ]
}